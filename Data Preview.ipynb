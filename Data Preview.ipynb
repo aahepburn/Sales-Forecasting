{
 "cells": [
  {
   "metadata": {},
   "cell_type": "code",
   "outputs": [],
   "execution_count": null,
   "source": "import pandas as pd",
   "id": "38475059b2b4a98"
  },
  {
   "metadata": {},
   "cell_type": "code",
   "outputs": [],
   "execution_count": null,
   "source": "calendar_data = pd.read_csv('data/calendar_afcs2024.csv')",
   "id": "51dbe6129b8683ba"
  },
  {
   "metadata": {},
   "cell_type": "markdown",
   "source": "## Calendar data\n",
   "id": "499d5d5781e19c57"
  },
  {
   "metadata": {},
   "cell_type": "code",
   "outputs": [],
   "execution_count": null,
   "source": "calendar_data.head(1969)",
   "id": "d276355c8d73a89d"
  },
  {
   "metadata": {},
   "cell_type": "code",
   "outputs": [],
   "execution_count": null,
   "source": [
    "print(\"Shape: \" + calendar_data.shape)\n",
    "print(\"Latest date: \" + max(calendar_data.date))\n",
    "print(\"Earliest date: \" + min(calendar_data.date))"
   ],
   "id": "5ea4f395a465e537"
  },
  {
   "metadata": {},
   "cell_type": "markdown",
   "source": "## Sales - Prices",
   "id": "43fcb73e7f19c6cb"
  },
  {
   "metadata": {},
   "cell_type": "code",
   "outputs": [],
   "execution_count": null,
   "source": "sales_prices = pd.read_csv('data/sell_prices_afcs2024.csv')",
   "id": "e0e521bdc3223a48"
  },
  {
   "metadata": {},
   "cell_type": "code",
   "outputs": [],
   "execution_count": null,
   "source": "sales_prices.head(15)",
   "id": "db72cced91325d92"
  },
  {
   "metadata": {},
   "cell_type": "code",
   "outputs": [],
   "execution_count": null,
   "source": "sales_prices.shape",
   "id": "a37a254b3324f37f"
  },
  {
   "metadata": {},
   "cell_type": "markdown",
   "source": "## Sales Data",
   "id": "6697fa3b616ae8bc"
  },
  {
   "metadata": {},
   "cell_type": "code",
   "outputs": [],
   "execution_count": null,
   "source": "sales_data = pd.read_csv('data/sales_train_validation_afcs2024.csv')",
   "id": "4ede9a5abe02d1a6"
  },
  {
   "metadata": {},
   "cell_type": "code",
   "outputs": [],
   "execution_count": null,
   "source": "sales_data.head(15)",
   "id": "4cc3599441c71a67"
  },
  {
   "metadata": {},
   "cell_type": "code",
   "outputs": [],
   "execution_count": null,
   "source": "sales_data.shape",
   "id": "8213ac2976d1e2d2"
  },
  {
   "metadata": {},
   "cell_type": "code",
   "outputs": [],
   "execution_count": null,
   "source": "",
   "id": "754e9e129e5ac587"
  }
 ],
 "metadata": {},
 "nbformat": 5,
 "nbformat_minor": 9
}
